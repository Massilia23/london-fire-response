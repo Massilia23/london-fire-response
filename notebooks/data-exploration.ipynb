{
 "cells": [
  {
   "cell_type": "markdown",
   "metadata": {},
   "source": [
    "<span style=\"color:#1976d2; font-size:2.2em; font-weight:bold;\">🔥 Projet London Fire Response</span>\n",
    "\n",
    "<span style=\"color:#42a5f5; font-size:2em; font-weight:bold;\">Exploration des données</span>\n",
    "\n",
    "Ce notebook a pour but de charger, assembler et analyser rapidement les données brutes provenant de deux sources :\n",
    "\n",
    "-les incidents signalés \n",
    "\n",
    "-les mobilisations des pompiers"
   ]
  },
  {
   "cell_type": "markdown",
   "metadata": {},
   "source": [
    "<span style=\"color:#e91e63; font-size:1em; font-weight:bold;\">1. Import des bibliothèques Python</span>"
   ]
  },
  {
   "cell_type": "code",
   "execution_count": 1,
   "metadata": {},
   "outputs": [],
   "source": [
    "import os                # Pour manipuler les chemins de fichiers\n",
    "import pandas as pd      # Pour charger et analyser les données\n",
    "import glob              # Pour lister automatiquement tous les fichiers d’un dossier\n",
    "import matplotlib.pyplot as plt  # Visualisation\n",
    "import seaborn as sns             # Visualisation statistique"
   ]
  },
  {
   "cell_type": "code",
   "execution_count": 2,
   "metadata": {},
   "outputs": [],
   "source": [
    "# Pour afficher toutes les colonnes et tout explorer !\n",
    "pd.set_option('display.max_columns', None)\n",
    "pd.set_option('display.width', None)"
   ]
  },
  {
   "cell_type": "markdown",
   "metadata": {},
   "source": [
    "  <span style=\"color:#e91e63; font-size:1em; font-weight:bold;\">2. Définition les chemins propres</span>"
   ]
  },
  {
   "cell_type": "code",
   "execution_count": 3,
   "metadata": {},
   "outputs": [
    {
     "name": "stdout",
     "output_type": "stream",
     "text": [
      "📁 Chemin incidents : c:\\Users\\9609241C\\london-fire-response\\data\\raw\\incidents\n",
      "📁 Chemin mobilisations : c:\\Users\\9609241C\\london-fire-response\\data\\raw\\mobilisations\n"
     ]
    }
   ],
   "source": [
    "# Revenir au dossier parent\n",
    "base_path = os.path.abspath(os.path.join(os.getcwd(), \"..\"))\n",
    "\n",
    "# Dossiers contenant les fichiers incidents et mobilisations\n",
    "incidents_path = os.path.join(base_path, \"data\", \"raw\", \"incidents\")\n",
    "mobilisations_path = os.path.join(base_path, \"data\", \"raw\", \"mobilisations\")\n",
    "\n",
    "print(\"📁 Chemin incidents :\", incidents_path)\n",
    "print(\"📁 Chemin mobilisations :\", mobilisations_path)"
   ]
  },
  {
   "cell_type": "markdown",
   "metadata": {},
   "source": [
    "<span style=\"color:#e91e63; font-size:1em; font-weight:bold;\">3. Charger tous les fichiers incidents (.csv)  </span>"
   ]
  },
  {
   "cell_type": "code",
   "execution_count": 4,
   "metadata": {},
   "outputs": [
    {
     "name": "stderr",
     "output_type": "stream",
     "text": [
      "C:\\Users\\9609241C\\AppData\\Local\\Temp\\ipykernel_3596\\1781612380.py:4: DtypeWarning: Columns (0) have mixed types. Specify dtype option on import or set low_memory=False.\n",
      "  incidents = pd.concat([pd.read_csv(f) for f in incident_files], ignore_index=True)\n"
     ]
    },
    {
     "name": "stdout",
     "output_type": "stream",
     "text": [
      "✅ Données incidents chargées !\n",
      "  IncidentNumber DateOfCall  CalYear TimeOfCall  HourOfCall    IncidentGroup  \\\n",
      "0    235138081.0  01-Jan-09     2009   00:00:37           0  Special Service   \n",
      "1         1091.0  01-Jan-09     2009   00:00:46           0  Special Service   \n",
      "2         2091.0  01-Jan-09     2009   00:03:00           0             Fire   \n",
      "3         3091.0  01-Jan-09     2009   00:04:27           0             Fire   \n",
      "4         5091.0  01-Jan-09     2009   00:05:39           0             Fire   \n",
      "\n",
      "  StopCodeDescription     SpecialServiceType PropertyCategory  \\\n",
      "0     Special Service                    RTC     Road Vehicle   \n",
      "1     Special Service  Assist other agencies          Outdoor   \n",
      "2      Secondary Fire                    NaN          Outdoor   \n",
      "3      Secondary Fire                    NaN          Outdoor   \n",
      "4      Secondary Fire                    NaN          Outdoor   \n",
      "\n",
      "                                  PropertyType  \\\n",
      "0                                         Car    \n",
      "1                         Lake/pond/reservoir    \n",
      "2                       Road surface/pavement    \n",
      "3  Domestic garden (vegetation not equipment)    \n",
      "4        Cycle path/public footpath/bridleway    \n",
      "\n",
      "                               AddressQualifier Postcode_full  \\\n",
      "0         In street close to gazetteer location      SW11 4LB   \n",
      "1  Open land/water - nearest gazetteer location       SE1 7SG   \n",
      "2          In street outside gazetteer location        N9 9EL   \n",
      "3              On land associated with building      UB10 0DG   \n",
      "4          In street outside gazetteer location        N7 8HG   \n",
      "\n",
      "  Postcode_district          UPRN        USRN IncGeo_BoroughCode  \\\n",
      "0              SW11           NaN         NaN          E09000032   \n",
      "1               SE1           NaN         NaN          E09000022   \n",
      "2                N9           NaN         NaN          E09000010   \n",
      "3              UB10  1.000215e+11  21401491.0          E09000017   \n",
      "4                N7           NaN         NaN          E09000019   \n",
      "\n",
      "  IncGeo_BoroughName  ProperCase IncGeo_WardCode        IncGeo_WardName  \\\n",
      "0         WANDSWORTH  Wandsworth       E05014010         Battersea Park   \n",
      "1            LAMBETH     Lambeth       E05014118  Waterloo & South Bank   \n",
      "2            ENFIELD     Enfield       E05013682              Haselbury   \n",
      "3         HILLINGDON  Hillingdon       E05013571        Hillingdon East   \n",
      "4          ISLINGTON   Islington       E05013708                Laycock   \n",
      "\n",
      "      IncGeo_WardNameNew  Easting_m  Northing_m  Easting_rounded  \\\n",
      "0         Battersea Park   528652.0    176830.0           528650   \n",
      "1  Waterloo & South Bank   530485.0    179007.0           530450   \n",
      "2              Haselbury   533773.0    194492.0           533750   \n",
      "3        Hillingdon East   507738.0    182805.0           507750   \n",
      "4                Laycock   531058.0    185307.0           531050   \n",
      "\n",
      "   Northing_rounded   Latitude  Longitude     FRS IncidentStationGround  \\\n",
      "0            176850  51.475812  -0.148894  London             Battersea   \n",
      "1            179050  51.494957  -0.121712  London               Lambeth   \n",
      "2            194450  51.633342  -0.068488  London              Edmonton   \n",
      "3            182850  51.533882  -0.448089  London            Hillingdon   \n",
      "4            185350  51.551441  -0.111120  London              Holloway   \n",
      "\n",
      "   FirstPumpArriving_AttendanceTime FirstPumpArriving_DeployedFromStation  \\\n",
      "0                             319.0                             Battersea   \n",
      "1                               NaN                                   NaN   \n",
      "2                             308.0                              Edmonton   \n",
      "3                             210.0                            Hillingdon   \n",
      "4                             233.0                              Holloway   \n",
      "\n",
      "   SecondPumpArriving_AttendanceTime SecondPumpArriving_DeployedFromStation  \\\n",
      "0                              342.0                                Clapham   \n",
      "1                                NaN                                    NaN   \n",
      "2                                NaN                                    NaN   \n",
      "3                                NaN                                    NaN   \n",
      "4                              250.0                               Holloway   \n",
      "\n",
      "   NumStationsWithPumpsAttending  NumPumpsAttending  PumpCount  \\\n",
      "0                            2.0                2.0          2   \n",
      "1                            NaN                NaN          1   \n",
      "2                            1.0                1.0          1   \n",
      "3                            1.0                1.0          1   \n",
      "4                            1.0                2.0          2   \n",
      "\n",
      "   PumpMinutesRounded  Notional Cost (£)  NumCalls  \n",
      "0                  60                255       1.0  \n",
      "1                  60                255       1.0  \n",
      "2                  60                255       2.0  \n",
      "3                  60                255       2.0  \n",
      "4                  60                255       1.0  \n",
      "📊 Nombre de lignes : 1824973\n",
      "📊 Nombre de colonnes : 39\n",
      "📊 Colonnes : ['IncidentNumber', 'DateOfCall', 'CalYear', 'TimeOfCall', 'HourOfCall', 'IncidentGroup', 'StopCodeDescription', 'SpecialServiceType', 'PropertyCategory', 'PropertyType', 'AddressQualifier', 'Postcode_full', 'Postcode_district', 'UPRN', 'USRN', 'IncGeo_BoroughCode', 'IncGeo_BoroughName', 'ProperCase', 'IncGeo_WardCode', 'IncGeo_WardName', 'IncGeo_WardNameNew', 'Easting_m', 'Northing_m', 'Easting_rounded', 'Northing_rounded', 'Latitude', 'Longitude', 'FRS', 'IncidentStationGround', 'FirstPumpArriving_AttendanceTime', 'FirstPumpArriving_DeployedFromStation', 'SecondPumpArriving_AttendanceTime', 'SecondPumpArriving_DeployedFromStation', 'NumStationsWithPumpsAttending', 'NumPumpsAttending', 'PumpCount', 'PumpMinutesRounded', 'Notional Cost (£)', 'NumCalls']\n",
      "📊 Types de données : IncidentNumber                             object\n",
      "DateOfCall                                 object\n",
      "CalYear                                     int64\n",
      "TimeOfCall                                 object\n",
      "HourOfCall                                  int64\n",
      "IncidentGroup                              object\n",
      "StopCodeDescription                        object\n",
      "SpecialServiceType                         object\n",
      "PropertyCategory                           object\n",
      "PropertyType                               object\n",
      "AddressQualifier                           object\n",
      "Postcode_full                              object\n",
      "Postcode_district                          object\n",
      "UPRN                                      float64\n",
      "USRN                                      float64\n",
      "IncGeo_BoroughCode                         object\n",
      "IncGeo_BoroughName                         object\n",
      "ProperCase                                 object\n",
      "IncGeo_WardCode                            object\n",
      "IncGeo_WardName                            object\n",
      "IncGeo_WardNameNew                         object\n",
      "Easting_m                                 float64\n",
      "Northing_m                                float64\n",
      "Easting_rounded                             int64\n",
      "Northing_rounded                            int64\n",
      "Latitude                                  float64\n",
      "Longitude                                 float64\n",
      "FRS                                        object\n",
      "IncidentStationGround                      object\n",
      "FirstPumpArriving_AttendanceTime          float64\n",
      "FirstPumpArriving_DeployedFromStation      object\n",
      "SecondPumpArriving_AttendanceTime         float64\n",
      "SecondPumpArriving_DeployedFromStation     object\n",
      "NumStationsWithPumpsAttending             float64\n",
      "NumPumpsAttending                         float64\n",
      "PumpCount                                   int64\n",
      "PumpMinutesRounded                          int64\n",
      "Notional Cost (£)                           int64\n",
      "NumCalls                                  float64\n",
      "dtype: object\n"
     ]
    }
   ],
   "source": [
    "incident_files = glob.glob(os.path.join(incidents_path, \"*.csv\"))\n",
    "\n",
    "# On charge tous les fichiers et on les regroupe\n",
    "incidents = pd.concat([pd.read_csv(f) for f in incident_files], ignore_index=True)\n",
    "\n",
    "# Aperçu rapide\n",
    "print(\"✅ Données incidents chargées !\")\n",
    "print(incidents.head())\n",
    "print(\"📊 Nombre de lignes :\", len(incidents))\n",
    "print(\"📊 Nombre de colonnes :\", len(incidents.columns))\n",
    "print(\"📊 Colonnes :\", incidents.columns.tolist())\n",
    "print(\"📊 Types de données :\", incidents.dtypes)"
   ]
  },
  {
   "cell_type": "markdown",
   "metadata": {},
   "source": [
    "> ## 📊 Observations de l'importation et exploration initiale des données `incidents`\n",
    "* Les données ont bien été chargées (environ 1,8 million de lignes, 39 colonnes).\n",
    "* Avertissement sur `IncidentNumber` : mélange de types (probablement des entiers et des chaînes).\n",
    "* Beaucoup de colonnes sont de type texte (`object`), avec aussi des numériques (`int64`, `float64`), notamment pour les coûts, le nombre de pompes, les temps d’intervention, etc.\n",
    "* Il y a plusieurs colonnes temporelles redondantes (`DateOfCall`, `TimeOfCall`, `HourOfCall`, `CalYear`) → à combiner.\n",
    "* Les colonnes liées à la localisation sont riches : code postal, latitude/longitude, boroughs, wards…\n",
    "* On observe des valeurs manquantes dans certaines colonnes (`UPRN`, `USRN`, `SecondPump...`).\n",
    "* Quelques colonnes semblent redondantes ou doublées (`IncGeo_WardName` vs `IncGeo_WardNameNew`, `FRS` vs `ProperCase`).\n",
    "* Il faudra convertir les dates en datetime, harmoniser les types, et potentiellement nettoyer les colonnes peu remplies ou inutiles."
   ]
  },
  {
   "cell_type": "markdown",
   "metadata": {},
   "source": [
    "<span style=\"color:#e91e63; font-size:1em; font-weight:bold;\">4. Charger tous les fichiers mobilisations (.csv ou .xlsx) </span>"
   ]
  },
  {
   "cell_type": "code",
   "execution_count": 7,
   "metadata": {},
   "outputs": [
    {
     "name": "stderr",
     "output_type": "stream",
     "text": [
      "C:\\Users\\9609241C\\AppData\\Local\\Temp\\ipykernel_3596\\59256256.py:6: FutureWarning: The behavior of DataFrame concatenation with empty or all-NA entries is deprecated. In a future version, this will no longer exclude empty or all-NA columns when determining the result dtypes. To retain the old behavior, exclude the relevant entries before the concat operation.\n",
      "  mobilisations = pd.concat(\n"
     ]
    },
    {
     "name": "stdout",
     "output_type": "stream",
     "text": [
      "✅ Données mobilisations chargées !\n",
      "    IncidentNumber  CalYear           BoroughName      WardName  HourOfCall  \\\n",
      "0  000004-01012021     2021              HARINGEY  Muswell Hill           0   \n",
      "1  000005-01012021     2021             REDBRIDGE      MONKHAMS           0   \n",
      "2  000006-01012021     2021  BARKING AND DAGENHAM       Village           0   \n",
      "3  000007-01012021     2021            WANDSWORTH     West Hill           0   \n",
      "4  000007-01012021     2021            WANDSWORTH     West Hill           0   \n",
      "\n",
      "   ResourceMobilisationId Resource_Code PerformanceReporting  \\\n",
      "0                 5769249          A321                    1   \n",
      "1                 5769250          F351                    1   \n",
      "2                 5769251          F412                    1   \n",
      "3                 5769252          H331                    1   \n",
      "4                 5769253          G351                    2   \n",
      "\n",
      "  DateAndTimeMobilised DateAndTimeMobile DateAndTimeArrived  \\\n",
      "0     01/01/2021 00:06  01/01/2021 00:07   01/01/2021 00:09   \n",
      "1     01/01/2021 00:07  01/01/2021 00:09   01/01/2021 00:11   \n",
      "2     01/01/2021 00:08  01/01/2021 00:10   01/01/2021 00:14   \n",
      "3     01/01/2021 00:12  01/01/2021 00:13   01/01/2021 00:19   \n",
      "4     01/01/2021 00:12  01/01/2021 00:13   01/01/2021 00:19   \n",
      "\n",
      "   TurnoutTimeSeconds  TravelTimeSeconds  AttendanceTimeSeconds  \\\n",
      "0                48.0              133.0                    181   \n",
      "1               114.0              136.0                    250   \n",
      "2               131.0              245.0                    376   \n",
      "3                53.0              356.0                    409   \n",
      "4                69.0              376.0                    445   \n",
      "\n",
      "    DateAndTimeLeft DateAndTimeReturned DeployedFromStation_Code  \\\n",
      "0  01/01/2021 00:57                 NaT                      A32   \n",
      "1  01/01/2021 00:18                 NaT                      F35   \n",
      "2  01/01/2021 00:24                 NaT                      F41   \n",
      "3  01/01/2021 00:40                 NaT                      H33   \n",
      "4  01/01/2021 00:29                 NaT                      G35   \n",
      "\n",
      "  DeployedFromStation_Name DeployedFromLocation  PumpOrder PlusCode_Code  \\\n",
      "0                  Hornsey         Home Station          1       Initial   \n",
      "1                 Woodford         Home Station          1       Initial   \n",
      "2                 Dagenham         Home Station          1       Initial   \n",
      "3               Wandsworth         Home Station          1       Initial   \n",
      "4                   Fulham         Home Station          2       Initial   \n",
      "\n",
      "   PlusCode_Description  DelayCodeId     DelayCode_Description  \n",
      "0  Initial Mobilisation          NaN                       NaN  \n",
      "1  Initial Mobilisation          NaN                       NaN  \n",
      "2  Initial Mobilisation         12.0               Not held up  \n",
      "3  Initial Mobilisation          8.0  Traffic calming measures  \n",
      "4  Initial Mobilisation          NaN                       NaN  \n"
     ]
    }
   ],
   "source": [
    "# Fichiers .csv et .xlsx\n",
    "mobilisation_csv = glob.glob(os.path.join(mobilisations_path, \"*.csv\"))\n",
    "mobilisation_xlsx = glob.glob(os.path.join(mobilisations_path, \"*.xlsx\"))\n",
    "\n",
    "# Charger tout et regrouper\n",
    "mobilisations = pd.concat(\n",
    "    [pd.read_csv(f) for f in mobilisation_csv] + \n",
    "    [pd.read_excel(f) for f in mobilisation_xlsx],\n",
    "    ignore_index=True\n",
    ")\n",
    "\n",
    "print(\"✅ Données mobilisations chargées !\")\n",
    "print(mobilisations.head())"
   ]
  },
  {
   "cell_type": "code",
   "execution_count": 8,
   "metadata": {},
   "outputs": [
    {
     "name": "stdout",
     "output_type": "stream",
     "text": [
      "📊 Nombre de lignes : 2561435\n",
      "📊 Nombre de colonnes : 24\n",
      "📊 Colonnes : ['IncidentNumber', 'CalYear', 'BoroughName', 'WardName', 'HourOfCall', 'ResourceMobilisationId', 'Resource_Code', 'PerformanceReporting', 'DateAndTimeMobilised', 'DateAndTimeMobile', 'DateAndTimeArrived', 'TurnoutTimeSeconds', 'TravelTimeSeconds', 'AttendanceTimeSeconds', 'DateAndTimeLeft', 'DateAndTimeReturned', 'DeployedFromStation_Code', 'DeployedFromStation_Name', 'DeployedFromLocation', 'PumpOrder', 'PlusCode_Code', 'PlusCode_Description', 'DelayCodeId', 'DelayCode_Description']\n",
      "📊 Types de données : IncidentNumber                      object\n",
      "CalYear                              int64\n",
      "BoroughName                         object\n",
      "WardName                            object\n",
      "HourOfCall                           int64\n",
      "ResourceMobilisationId               int64\n",
      "Resource_Code                       object\n",
      "PerformanceReporting                object\n",
      "DateAndTimeMobilised                object\n",
      "DateAndTimeMobile                   object\n",
      "DateAndTimeArrived                  object\n",
      "TurnoutTimeSeconds                 float64\n",
      "TravelTimeSeconds                  float64\n",
      "AttendanceTimeSeconds                int64\n",
      "DateAndTimeLeft                     object\n",
      "DateAndTimeReturned         datetime64[ns]\n",
      "DeployedFromStation_Code            object\n",
      "DeployedFromStation_Name            object\n",
      "DeployedFromLocation                object\n",
      "PumpOrder                            int64\n",
      "PlusCode_Code                       object\n",
      "PlusCode_Description                object\n",
      "DelayCodeId                        float64\n",
      "DelayCode_Description               object\n",
      "dtype: object\n"
     ]
    }
   ],
   "source": [
    "#suite exploration mobilisations\n",
    "print(\"📊 Nombre de lignes :\", len(mobilisations))\n",
    "print(\"📊 Nombre de colonnes :\", len(mobilisations.columns))\n",
    "print(\"📊 Colonnes :\", mobilisations.columns.tolist())\n",
    "print(\"📊 Types de données :\", mobilisations.dtypes)"
   ]
  },
  {
   "cell_type": "markdown",
   "metadata": {},
   "source": [
    "> ## 📊 Observations de l'importation et exploration initiale des données `mobilisations`\n",
    "- d'apres le warning du chargement avec pd : présence de colonnes vides ou très mal renseignées dans certains fichiers du dataset.\n",
    "-`DelayCode_Description` contient beaucoup de valeurs manquantes\n",
    "- Faudra faire attention à la conversion des `IncidentNumber` notamment pr le join entre les 2 datasets !\n",
    "- Les 4 colonnes temporelles 'DateAndTimeMobilised','DateAndTimeMobile' ,'DateAndTimeArrived' ,'DateAndTimeLeft': ont un format cohérent nécessitent un to_datetime().\n",
    "\n",
    "IncidentNumber : etant  l'identifiant de l'incident\n",
    "PumpOrder : ordre d’arrivée de l’engin \n",
    "ApplianceIdentifier / ApplianceCallSign : identifiants du véhicule\n",
    "==> Plusieurs mobilisations sont donc liées à un même incident, ce qui créera des doublons d’incidents mais lignes uniques de mobilisation.\n",
    "\n",
    "Pour ce qui des données de Localisation :\n",
    "BoroughCode / BoroughName, DeployedFromStation_Code / DeployedFromStation_Name, StationGround\n",
    "==> Les données  semblentmajoritairement complètes sur la géographie, avec des noms lisibles. Peu de valeurs nulles."
   ]
  },
  {
   "cell_type": "markdown",
   "metadata": {},
   "source": []
  },
  {
   "cell_type": "code",
   "execution_count": null,
   "metadata": {},
   "outputs": [],
   "source": []
  },
  {
   "cell_type": "markdown",
   "metadata": {},
   "source": []
  },
  {
   "cell_type": "code",
   "execution_count": null,
   "metadata": {},
   "outputs": [],
   "source": []
  },
  {
   "cell_type": "markdown",
   "metadata": {},
   "source": []
  },
  {
   "cell_type": "code",
   "execution_count": null,
   "metadata": {},
   "outputs": [],
   "source": []
  }
 ],
 "metadata": {
  "kernelspec": {
   "display_name": "Python 3",
   "language": "python",
   "name": "python3"
  },
  "language_info": {
   "codemirror_mode": {
    "name": "ipython",
    "version": 3
   },
   "file_extension": ".py",
   "mimetype": "text/x-python",
   "name": "python",
   "nbconvert_exporter": "python",
   "pygments_lexer": "ipython3",
   "version": "3.13.1"
  }
 },
 "nbformat": 4,
 "nbformat_minor": 2
}
