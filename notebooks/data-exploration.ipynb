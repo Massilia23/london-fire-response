{
 "cells": [
  {
   "cell_type": "markdown",
   "metadata": {},
   "source": [
    "<span style=\"color:#1976d2; font-size:2.2em; font-weight:bold;\">🔥 Projet London Fire Response</span>\n",
    "\n",
    "<span style=\"color:#42a5f5; font-size:2em; font-weight:bold;\">Exploration des données</span>\n",
    "\n",
    "Ce notebook a pour but de charger, assembler et analyser rapidement les données brutes provenant de deux sources :\n",
    "\n",
    "-les incidents signalés \n",
    "\n",
    "-les mobilisations des pompiers"
   ]
  },
  {
   "cell_type": "markdown",
   "metadata": {},
   "source": [
    "<span style=\"color:#e91e63; font-size:1em; font-weight:bold;\">1. Import des bibliothèques Python</span>"
   ]
  },
  {
   "cell_type": "code",
   "execution_count": 1,
   "metadata": {},
   "outputs": [],
   "source": [
    "import os                # Pour manipuler les chemins de fichiers\n",
    "import pandas as pd      # Pour charger et analyser les données\n",
    "import glob              # Pour lister automatiquement tous les fichiers d’un dossier\n",
    "import matplotlib.pyplot as plt  # Visualisation\n",
    "import seaborn as sns             # Visualisation statistique"
   ]
  },
  {
   "cell_type": "code",
   "execution_count": 2,
   "metadata": {},
   "outputs": [],
   "source": [
    "# Pour afficher toutes les colonnes et tout explorer !\n",
    "pd.set_option('display.max_columns', None)\n",
    "pd.set_option('display.width', None)"
   ]
  },
  {
   "cell_type": "markdown",
   "metadata": {},
   "source": [
    "  <span style=\"color:#e91e63; font-size:1em; font-weight:bold;\">2. Définition les chemins propres</span>"
   ]
  },
  {
   "cell_type": "code",
   "execution_count": 3,
   "metadata": {},
   "outputs": [
    {
     "name": "stdout",
     "output_type": "stream",
     "text": [
      "📁 Chemin incidents : /home/ubuntu/projects/london-fire-response/data/raw/incidents\n",
      "📁 Chemin mobilisations : /home/ubuntu/projects/london-fire-response/data/raw/mobilisations\n"
     ]
    }
   ],
   "source": [
    "# Revenir au dossier parent\n",
    "base_path = os.path.abspath(os.path.join(os.getcwd(), \"..\"))\n",
    "\n",
    "# Dossiers contenant les fichiers incidents et mobilisations\n",
    "incidents_path = os.path.join(base_path, \"data\", \"raw\", \"incidents\")\n",
    "mobilisations_path = os.path.join(base_path, \"data\", \"raw\", \"mobilisations\")\n",
    "\n",
    "print(\"📁 Chemin incidents :\", incidents_path)\n",
    "print(\"📁 Chemin mobilisations :\", mobilisations_path)"
   ]
  },
  {
   "cell_type": "markdown",
   "metadata": {},
   "source": [
    "<span style=\"color:#e91e63; font-size:1em; font-weight:bold;\">3. Charger tous les fichiers incidents (.csv)  </span>"
   ]
  },
  {
   "cell_type": "code",
   "execution_count": 4,
   "metadata": {},
   "outputs": [
    {
     "name": "stderr",
     "output_type": "stream",
     "text": [
      "/tmp/ipykernel_6781/2886876441.py:4: DtypeWarning: Columns (0) have mixed types. Specify dtype option on import or set low_memory=False.\n",
      "  incidents = pd.concat([pd.read_csv(f) for f in incident_files], ignore_index=True)\n"
     ]
    },
    {
     "name": "stdout",
     "output_type": "stream",
     "text": [
      "✅ Données incidents chargées !\n",
      "  IncidentNumber DateOfCall  CalYear TimeOfCall  HourOfCall    IncidentGroup  \\\n",
      "0    235138081.0  01-Jan-09     2009   00:00:37           0  Special Service   \n",
      "1         1091.0  01-Jan-09     2009   00:00:46           0  Special Service   \n",
      "2         2091.0  01-Jan-09     2009   00:03:00           0             Fire   \n",
      "3         3091.0  01-Jan-09     2009   00:04:27           0             Fire   \n",
      "4         5091.0  01-Jan-09     2009   00:05:39           0             Fire   \n",
      "\n",
      "  StopCodeDescription     SpecialServiceType PropertyCategory  \\\n",
      "0     Special Service                    RTC     Road Vehicle   \n",
      "1     Special Service  Assist other agencies          Outdoor   \n",
      "2      Secondary Fire                    NaN          Outdoor   \n",
      "3      Secondary Fire                    NaN          Outdoor   \n",
      "4      Secondary Fire                    NaN          Outdoor   \n",
      "\n",
      "                                  PropertyType  \\\n",
      "0                                         Car    \n",
      "1                         Lake/pond/reservoir    \n",
      "2                       Road surface/pavement    \n",
      "3  Domestic garden (vegetation not equipment)    \n",
      "4        Cycle path/public footpath/bridleway    \n",
      "\n",
      "                               AddressQualifier Postcode_full  \\\n",
      "0         In street close to gazetteer location      SW11 4LB   \n",
      "1  Open land/water - nearest gazetteer location       SE1 7SG   \n",
      "2          In street outside gazetteer location        N9 9EL   \n",
      "3              On land associated with building      UB10 0DG   \n",
      "4          In street outside gazetteer location        N7 8HG   \n",
      "\n",
      "  Postcode_district          UPRN        USRN IncGeo_BoroughCode  \\\n",
      "0              SW11           NaN         NaN          E09000032   \n",
      "1               SE1           NaN         NaN          E09000022   \n",
      "2                N9           NaN         NaN          E09000010   \n",
      "3              UB10  1.000215e+11  21401491.0          E09000017   \n",
      "4                N7           NaN         NaN          E09000019   \n",
      "\n",
      "  IncGeo_BoroughName  ProperCase IncGeo_WardCode        IncGeo_WardName  \\\n",
      "0         WANDSWORTH  Wandsworth       E05014010         Battersea Park   \n",
      "1            LAMBETH     Lambeth       E05014118  Waterloo & South Bank   \n",
      "2            ENFIELD     Enfield       E05013682              Haselbury   \n",
      "3         HILLINGDON  Hillingdon       E05013571        Hillingdon East   \n",
      "4          ISLINGTON   Islington       E05013708                Laycock   \n",
      "\n",
      "      IncGeo_WardNameNew  Easting_m  Northing_m  Easting_rounded  \\\n",
      "0         Battersea Park   528652.0    176830.0           528650   \n",
      "1  Waterloo & South Bank   530485.0    179007.0           530450   \n",
      "2              Haselbury   533773.0    194492.0           533750   \n",
      "3        Hillingdon East   507738.0    182805.0           507750   \n",
      "4                Laycock   531058.0    185307.0           531050   \n",
      "\n",
      "   Northing_rounded   Latitude  Longitude     FRS IncidentStationGround  \\\n",
      "0            176850  51.475812  -0.148894  London             Battersea   \n",
      "1            179050  51.494957  -0.121712  London               Lambeth   \n",
      "2            194450  51.633342  -0.068488  London              Edmonton   \n",
      "3            182850  51.533882  -0.448089  London            Hillingdon   \n",
      "4            185350  51.551441  -0.111120  London              Holloway   \n",
      "\n",
      "   FirstPumpArriving_AttendanceTime FirstPumpArriving_DeployedFromStation  \\\n",
      "0                             319.0                             Battersea   \n",
      "1                               NaN                                   NaN   \n",
      "2                             308.0                              Edmonton   \n",
      "3                             210.0                            Hillingdon   \n",
      "4                             233.0                              Holloway   \n",
      "\n",
      "   SecondPumpArriving_AttendanceTime SecondPumpArriving_DeployedFromStation  \\\n",
      "0                              342.0                                Clapham   \n",
      "1                                NaN                                    NaN   \n",
      "2                                NaN                                    NaN   \n",
      "3                                NaN                                    NaN   \n",
      "4                              250.0                               Holloway   \n",
      "\n",
      "   NumStationsWithPumpsAttending  NumPumpsAttending  PumpCount  \\\n",
      "0                            2.0                2.0          2   \n",
      "1                            NaN                NaN          1   \n",
      "2                            1.0                1.0          1   \n",
      "3                            1.0                1.0          1   \n",
      "4                            1.0                2.0          2   \n",
      "\n",
      "   PumpMinutesRounded  Notional Cost (£)  NumCalls  \n",
      "0                  60                255       1.0  \n",
      "1                  60                255       1.0  \n",
      "2                  60                255       2.0  \n",
      "3                  60                255       2.0  \n",
      "4                  60                255       1.0  \n",
      "📊 Nombre de lignes : 1824973\n",
      "📊 Nombre de colonnes : 39\n",
      "📊 Colonnes : ['IncidentNumber', 'DateOfCall', 'CalYear', 'TimeOfCall', 'HourOfCall', 'IncidentGroup', 'StopCodeDescription', 'SpecialServiceType', 'PropertyCategory', 'PropertyType', 'AddressQualifier', 'Postcode_full', 'Postcode_district', 'UPRN', 'USRN', 'IncGeo_BoroughCode', 'IncGeo_BoroughName', 'ProperCase', 'IncGeo_WardCode', 'IncGeo_WardName', 'IncGeo_WardNameNew', 'Easting_m', 'Northing_m', 'Easting_rounded', 'Northing_rounded', 'Latitude', 'Longitude', 'FRS', 'IncidentStationGround', 'FirstPumpArriving_AttendanceTime', 'FirstPumpArriving_DeployedFromStation', 'SecondPumpArriving_AttendanceTime', 'SecondPumpArriving_DeployedFromStation', 'NumStationsWithPumpsAttending', 'NumPumpsAttending', 'PumpCount', 'PumpMinutesRounded', 'Notional Cost (£)', 'NumCalls']\n",
      "📊 Types de données : IncidentNumber                             object\n",
      "DateOfCall                                 object\n",
      "CalYear                                     int64\n",
      "TimeOfCall                                 object\n",
      "HourOfCall                                  int64\n",
      "IncidentGroup                              object\n",
      "StopCodeDescription                        object\n",
      "SpecialServiceType                         object\n",
      "PropertyCategory                           object\n",
      "PropertyType                               object\n",
      "AddressQualifier                           object\n",
      "Postcode_full                              object\n",
      "Postcode_district                          object\n",
      "UPRN                                      float64\n",
      "USRN                                      float64\n",
      "IncGeo_BoroughCode                         object\n",
      "IncGeo_BoroughName                         object\n",
      "ProperCase                                 object\n",
      "IncGeo_WardCode                            object\n",
      "IncGeo_WardName                            object\n",
      "IncGeo_WardNameNew                         object\n",
      "Easting_m                                 float64\n",
      "Northing_m                                float64\n",
      "Easting_rounded                             int64\n",
      "Northing_rounded                            int64\n",
      "Latitude                                  float64\n",
      "Longitude                                 float64\n",
      "FRS                                        object\n",
      "IncidentStationGround                      object\n",
      "FirstPumpArriving_AttendanceTime          float64\n",
      "FirstPumpArriving_DeployedFromStation      object\n",
      "SecondPumpArriving_AttendanceTime         float64\n",
      "SecondPumpArriving_DeployedFromStation     object\n",
      "NumStationsWithPumpsAttending             float64\n",
      "NumPumpsAttending                         float64\n",
      "PumpCount                                   int64\n",
      "PumpMinutesRounded                          int64\n",
      "Notional Cost (£)                           int64\n",
      "NumCalls                                  float64\n",
      "dtype: object\n"
     ]
    }
   ],
   "source": [
    "incident_files = glob.glob(os.path.join(incidents_path, \"*.csv\"))\n",
    "\n",
    "# On charge tous les fichiers et on les regroupe\n",
    "incidents = pd.concat([pd.read_csv(f) for f in incident_files], ignore_index=True)\n",
    "\n",
    "# Aperçu rapide\n",
    "print(\"✅ Données incidents chargées !\")\n",
    "print(incidents.head())\n",
    "print(\"📊 Nombre de lignes :\", len(incidents))\n",
    "print(\"📊 Nombre de colonnes :\", len(incidents.columns))\n",
    "print(\"📊 Colonnes :\", incidents.columns.tolist())\n",
    "print(\"📊 Types de données :\", incidents.dtypes)\n",
    "\n",
    "\n"
   ]
  },
  {
   "cell_type": "markdown",
   "metadata": {},
   "source": [
    "> ## 📊 Observations de l'importation et exploration initiale des données `incidents`\n",
    "* Les données ont bien été chargées (environ 1,8 million de lignes, 39 colonnes).\n",
    "* Avertissement sur `IncidentNumber` : mélange de types (probablement des entiers et des chaînes).\n",
    "* Beaucoup de colonnes sont de type texte (`object`), avec aussi des numériques (`int64`, `float64`), notamment pour les coûts, le nombre de pompes, les temps d’intervention, etc.\n",
    "* Il y a plusieurs colonnes temporelles redondantes (`DateOfCall`, `TimeOfCall`, `HourOfCall`, `CalYear`) → à combiner.\n",
    "* Les colonnes liées à la localisation sont riches : code postal, latitude/longitude, boroughs, wards…\n",
    "* On observe des valeurs manquantes dans certaines colonnes (`UPRN`, `USRN`, `SecondPump...`).\n",
    "* Quelques colonnes semblent redondantes ou doublées (`IncGeo_WardName` vs `IncGeo_WardNameNew`, `FRS` vs `ProperCase`).\n",
    "* Il faudra convertir les dates en datetime, harmoniser les types, et potentiellement nettoyer les colonnes peu remplies ou inutiles."
   ]
  },
  {
   "cell_type": "code",
   "execution_count": null,
   "metadata": {},
   "outputs": [],
   "source": []
  },
  {
   "cell_type": "code",
   "execution_count": null,
   "metadata": {},
   "outputs": [],
   "source": []
  },
  {
   "cell_type": "code",
   "execution_count": null,
   "metadata": {},
   "outputs": [],
   "source": []
  },
  {
   "cell_type": "markdown",
   "metadata": {},
   "source": []
  },
  {
   "cell_type": "code",
   "execution_count": null,
   "metadata": {},
   "outputs": [],
   "source": []
  },
  {
   "cell_type": "markdown",
   "metadata": {},
   "source": []
  },
  {
   "cell_type": "code",
   "execution_count": null,
   "metadata": {},
   "outputs": [],
   "source": []
  }
 ],
 "metadata": {
  "kernelspec": {
   "display_name": "london-fire-response",
   "language": "python",
   "name": "python3"
  },
  "language_info": {
   "codemirror_mode": {
    "name": "ipython",
    "version": 3
   },
   "file_extension": ".py",
   "mimetype": "text/x-python",
   "name": "python",
   "nbconvert_exporter": "python",
   "pygments_lexer": "ipython3",
   "version": "3.10.17"
  }
 },
 "nbformat": 4,
 "nbformat_minor": 2
}
