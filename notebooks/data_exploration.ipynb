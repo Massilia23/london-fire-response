{
 "cells": [
  {
   "cell_type": "markdown",
   "id": "1bd6e46f",
   "metadata": {},
   "source": []
  }
 ],
 "metadata": {
  "kernelspec": {
   "display_name": "london-fire-response",
   "language": "python",
   "name": "python3"
  },
  "language_info": {
   "name": "python",
   "version": "3.10.17"
  }
 },
 "nbformat": 4,
 "nbformat_minor": 5
}
